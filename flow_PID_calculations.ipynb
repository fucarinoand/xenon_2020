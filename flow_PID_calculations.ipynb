{
 "cells": [
  {
   "cell_type": "code",
   "execution_count": 3,
   "metadata": {
    "collapsed": true
   },
   "outputs": [],
   "source": [
    "import numpy as np\n",
    "from scipy.optimize import curve_fit\n",
    "import matplotlib.pyplot as plt\n",
    "import math\n",
    "from scipy import constants"
   ]
  },
  {
   "cell_type": "markdown",
   "metadata": {},
   "source": [
    "# Cooling Power #\n",
    "\n",
    "$\\dot{Q} = hA(T_2 - T_1)$\n",
    "\n",
    "Where $\\dot{Q}$ is cooling power in Watts ($\\frac{joules}{second}$), h is thermal transfer coefficient, A is area of heat transfer, $T_2$ is the temperature of the Xenon, and $T_1$ is the temperature of the nitrogen.\n",
    "\n",
    "Given the temperature boundary conditions, dimensions of the evaporator and condenser, and the materials (namely, coppper), we can deduce this cooling power. From the cooling power, we can derive a necessary flowrate of liquid nitrogen into the system, which allows us to know our usage of the dewar, as well as calculate to gas flow rate out of the system.\n",
    "\n",
    "# Flow Rate Stoichiometry #\n",
    "\n",
    "$\\left(\\frac{Joule}{Second}\\right)\\left(\\frac{mol}{joule}\\right)\\left(\\frac{gram}{mol}\\right)\\left(\\frac{liter}{gram}\\right) = \\left(\\frac{liter}{second}\\right)$\n",
    "\n",
    "$\\left(Cooling Power\\right)\\div\\left(Latent Heat of Vaporization\\right)\\left(Molar Mass\\right)\\div\\left(Density\\right) = \\left(Flow Rate\\right)$\n",
    "\n",
    "Flow Rate $ = \\frac{\\dot{Q}M}{\\rho L}$\n",
    "\n",
    "In the equilibrium (ideal) state, we can approximate the thermal transfer coefficient as the one which is entirely due to the copper between the nitrogen and xenon. To obtain this value, we use the specifications from McMaster for 101 Copper. \n",
    "\n",
    "Here: (From McMaster-Carr)\n",
    "\n",
    "Super-Conductive 101 Copper Thermal Conductivity: 226 Btu/hr. × ft./°F @ 68° F =  391.146 Watt/m/K\n",
    "\n",
    "The thermal transfer coefficient depends upon length of the connection:\n",
    "\n",
    "$ h = \\frac{U}{s}$ where U is the thermal conductivity and s is the connection length, which is 2 inches in this system.\n",
    "\n",
    "\n",
    "\n",
    "\n"
   ]
  },
  {
   "cell_type": "code",
   "execution_count": 4,
   "metadata": {
    "collapsed": true
   },
   "outputs": [],
   "source": [
    "thermal_area = 0.000903224 #1.4 square inches in m^2\n",
    "conductivity_cu = 391.146\n",
    "length_s = 0.0508 #2 inches in m\n",
    "h_cu = conductivity_cu/length_s\n",
    "T_ln2 = 77\n",
    "T_xe = 165\n",
    "density_ln2 = 816.7 #grams per liter\n",
    "density_n2 = 1.126\n",
    "latent_vap_n2 = 5600 #joules per mole\n",
    "molar_mass_n2 = 28 #grams per mol"
   ]
  },
  {
   "cell_type": "code",
   "execution_count": 5,
   "metadata": {},
   "outputs": [],
   "source": [
    "cooling_power = h_cu*thermal_area*(T_xe - T_ln2)\n",
    "flow_rate_s = (cooling_power*molar_mass_n2)/(density_ln2*latent_vap_n2)\n",
    "flow_rate_s_g = (cooling_power*molar_mass_n2)/(density_n2*latent_vap_n2)\n",
    "flow_rate_m_g = flow_rate_s_g*60\n",
    "flow_rate_m = flow_rate_s*60\n",
    "flow_rate_m_inv = 1/flow_rate_m\n",
    "flow_rate_m_g_inv = 1/flow_rate_m_g"
   ]
  },
  {
   "cell_type": "code",
   "execution_count": 7,
   "metadata": {},
   "outputs": [
    {
     "name": "stdout",
     "output_type": "stream",
     "text": [
      "Cooling Power: 612.0026774400001 Watts\n",
      "Flow Rate (Liquid): 0.0037468022372964373 Liters per second\n",
      "Flow Rate (Liquid): 0.22480813423778623 Liters per minute\n",
      "Flow Rate (Liquid): 4.448237620006536 Minutes per liter\n",
      "Flow Rate (Gas): 2.717596258614565 Liters per second\n",
      "Flow Rate (Gas): 163.05577551687392 Liters per minute\n",
      "Flow Rate (Gas): 0.006132870772777468 Minutes per liter\n"
     ]
    }
   ],
   "source": [
    "print(\"Cooling Power: \" + str(cooling_power) + \" Watts\")\n",
    "print(\"Flow Rate (Liquid): \" + str(flow_rate_s) + \" Liters per second\")\n",
    "print(\"Flow Rate (Liquid): \" + str(flow_rate_m) + \" Liters per minute\")\n",
    "print(\"Flow Rate (Liquid): \" + str(flow_rate_m_inv) + \" Minutes per liter\")\n",
    "print(\"Flow Rate (Gas): \" + str(flow_rate_s_g) + \" Liters per second\")\n",
    "print(\"Flow Rate (Gas): \" + str(flow_rate_m_g) + \" Liters per minute\")\n",
    "print(\"Flow Rate (Gas): \" + str(flow_rate_m_g_inv) + \" Minutes per liter\")"
   ]
  },
  {
   "cell_type": "code",
   "execution_count": 9,
   "metadata": {},
   "outputs": [
    {
     "name": "stdout",
     "output_type": "stream",
     "text": [
      "0\n",
      "1\n",
      "2\n"
     ]
    }
   ],
   "source": [
    "for i in range(3):\n",
    "    print(i)"
   ]
  },
  {
   "cell_type": "code",
   "execution_count": 44,
   "metadata": {},
   "outputs": [
    {
     "name": "stdout",
     "output_type": "stream",
     "text": [
      "n    f(n)\n",
      "1.0\n",
      "1.75\n",
      "2.6097560975609757\n",
      "3.5016207455429496\n",
      "4.400243013365735\n",
      "5.300034020217729\n",
      "6.200004536003311\n",
      "7.100000583200048\n",
      "8.0000000729\n",
      "0.8900000073791\n",
      "0.8999000074521629\n",
      "0.9809990081236458\n",
      "1.0628099988011208\n",
      "1.144628109378656\n",
      "1.2264462911551917\n",
      "1.3082644736437175\n",
      "1.3900826561393629\n",
      "1.4719008386350796\n",
      "1.5537190211307972\n",
      "1.6355372036265148\n",
      "1.7173553861222322\n",
      "1.7991735686179497\n",
      "1.8809917511136671\n",
      "1.9628099336093845\n",
      "2.0446281161051023\n",
      "2.1264462986008197\n",
      "2.2082644810965375\n",
      "2.290082663592255\n",
      "2.3719008460879727\n",
      "2.45371902858369\n",
      "2.535537211079407\n",
      "2.617355393575125\n",
      "2.6991735760708426\n",
      "2.7809917585665596\n",
      "2.8628099410622774\n",
      "2.9446281235579947\n",
      "3.0264463060537126\n",
      "3.10826448854943\n",
      "3.1900826710451473\n",
      "3.271900853540865\n",
      "3.3537190360365825\n",
      "3.4355372185323\n",
      "3.5173554010280172\n",
      "3.5991735835237346\n",
      "3.6809917660194524\n",
      "3.76280994851517\n",
      "3.8446281310108876\n",
      "3.926446313506605\n",
      "4.008264496002322\n",
      "4.09008267849804\n",
      "4.171900860993757\n",
      "4.2537190434894745\n",
      "4.335537225985193\n",
      "4.41735540848091\n",
      "4.4991735909766275\n",
      "4.580991773472345\n",
      "4.662809955968062\n",
      "4.74462813846378\n",
      "4.826446320959497\n",
      "4.908264503455215\n",
      "4.990082685950933\n",
      "5.07190086844665\n",
      "5.153719050942367\n",
      "5.235537233438085\n",
      "5.317355415933803\n",
      "5.39917359842952\n",
      "5.480991780925238\n",
      "5.562809963420955\n",
      "5.644628145916673\n",
      "5.726446328412391\n",
      "5.808264510908107\n",
      "5.890082693403825\n",
      "5.971900875899543\n",
      "6.05371905839526\n",
      "6.135537240890978\n",
      "6.217355423386694\n",
      "6.299173605882412\n",
      "6.38099178837813\n",
      "6.462809970873847\n",
      "6.544628153369565\n",
      "6.626446335865283\n",
      "6.708264518361\n",
      "6.790082700856717\n",
      "6.871900883352436\n",
      "6.953719065848153\n",
      "7.0355372483438705\n",
      "7.117355430839588\n",
      "7.199173613335306\n",
      "7.280991795831022\n",
      "7.36280997832674\n",
      "7.444628160822457\n",
      "7.526446343318175\n",
      "7.608264525813893\n",
      "7.6900827083096095\n",
      "7.771900890805328\n",
      "7.853719073301046\n",
      "7.935537255796763\n",
      "8.01735543829248\n",
      "8.099173620788198\n",
      "0.8180991803283915\n",
      "0.8189181059550079\n",
      "0.8270189249477105\n",
      "0.8351270258337792\n",
      "0.8432351340017413\n",
      "0.8513432421769852\n",
      "0.8594513503522365\n",
      "0.867559458527488\n",
      "0.875667566702739\n",
      "0.8837756748779904\n",
      "0.8918837830532417\n",
      "0.899991891228493\n",
      "0.9080999994037442\n",
      "0.9162081075789956\n",
      "0.9243162157542468\n",
      "0.932424323929498\n",
      "0.9405324321047493\n",
      "0.9486405402800008\n",
      "0.956748648455252\n",
      "0.9648567566305034\n",
      "0.9729648648057544\n",
      "0.9810729729810057\n",
      "0.9891810811562571\n",
      "0.9972891893315083\n",
      "1.0053972975067598\n",
      "1.013505405682011\n",
      "1.0216135138572624\n",
      "1.0297216220325136\n",
      "1.0378297302077648\n",
      "1.045937838383016\n",
      "1.0540459465582672\n"
     ]
    }
   ],
   "source": [
    "n_list = []\n",
    "ratio_list = []\n",
    "print(\"n    f(n)\")\n",
    "for i in range(130):\n",
    "    i += 1\n",
    "    temp_str_u = \"\"\n",
    "    temp_str_d = \"\"\n",
    "    for j in range(i):\n",
    "        temp_str_u = temp_str_u + (str(j+1))\n",
    "        temp_str_d = temp_str_d + (str(i-j))\n",
    "    ratio = int(temp_str_d)/float(temp_str_u)\n",
    "    print(str(ratio))\n",
    "    n_list.append(i)\n",
    "    ratio_list.append(ratio)\n"
   ]
  },
  {
   "cell_type": "code",
   "execution_count": 43,
   "metadata": {},
   "outputs": [
    {
     "data": {
      "image/png": "[encoded data removed]",
      "text/plain": [
       "<matplotlib.figure.Figure at 0xcfc5923518>"
      ]
     },
     "metadata": {},
     "output_type": "display_data"
    }
   ],
   "source": [
    "plt.scatter(n_list,ratio_list)\n",
    "plt.title(\"Count-down/Count-up ratio up to n = 100\")\n",
    "plt.xlabel(\"n\")\n",
    "plt.ylabel(\"f(n)\")\n",
    "plt.show()"
   ]
  },
  {
   "cell_type": "code",
   "execution_count": 71,
   "metadata": {},
   "outputs": [
    {
     "data": {
      "image/png": "[encoded data removed]",
      "text/plain": [
       "<matplotlib.figure.Figure at 0xcfc6e0a128>"
      ]
     },
     "metadata": {},
     "output_type": "display_data"
    }
   ],
   "source": [
    "n = 10\n",
    "n_list = []\n",
    "for i in range(n):\n",
    "    n_list.append(i)\n",
    "sin_n_list = []\n",
    "for n_item in n_list:\n",
    "    sin_n_list.append(math.sin(n_item))\n",
    "plt.scatter(n_list,sin_n_list)\n",
    "plt.title(\"Sine of integers (n=%d)\"%(n))\n",
    "plt.xlabel(\"n\")\n",
    "plt.ylabel(\"sin(n)\")\n",
    "plt.show()"
   ]
  },
  {
   "cell_type": "code",
   "execution_count": 116,
   "metadata": {},
   "outputs": [
    {
     "data": {
      "image/png": "[encoded data removed]",
      "text/plain": [
       "<matplotlib.figure.Figure at 0xcfc5a036d8>"
      ]
     },
     "metadata": {},
     "output_type": "display_data"
    }
   ],
   "source": [
    "n = 700\n",
    "n_list = []\n",
    "for i in range(n):\n",
    "    n_list.append(i)\n",
    "cos_n_list = []\n",
    "for n_item in n_list:\n",
    "    cos_n_list.append(math.cos(n_item))\n",
    "plt.scatter(n_list,cos_n_list)\n",
    "plt.title(\"Cosine of integers (n=%d)\"%(n))\n",
    "plt.xlabel(\"n\")\n",
    "plt.ylabel(\"cos(n)\")\n",
    "plt.show()"
   ]
  },
  {
   "cell_type": "markdown",
   "metadata": {},
   "source": []
  }
 ],
 "metadata": {
  "kernelspec": {
   "display_name": "Python 3",
   "language": "python",
   "name": "python3"
  },
  "language_info": {
   "codemirror_mode": {
    "name": "ipython",
    "version": 3
   },
   "file_extension": ".py",
   "mimetype": "text/x-python",
   "name": "python",
   "nbconvert_exporter": "python",
   "pygments_lexer": "ipython3",
   "version": "3.6.1"
  }
 },
 "nbformat": 4,
 "nbformat_minor": 2
}
