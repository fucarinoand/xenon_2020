{
 "cells": [
  {
   "cell_type": "code",
   "execution_count": 3,
   "metadata": {
    "collapsed": true
   },
   "outputs": [],
   "source": [
    "import numpy as np\n",
    "from scipy.optimize import curve_fit\n",
    "import matplotlib.pyplot as plt\n",
    "import math\n",
    "from scipy import constants"
   ]
  },
  {
   "cell_type": "markdown",
   "metadata": {},
   "source": [
    "# Cooling Power #\n",
    "\n",
    "$\\dot{Q} = hA(T_2 - T_1)$\n",
    "\n",
    "Where $\\dot{Q}$ is cooling power in Watts ($\\frac{joules}{second}$), h is thermal transfer coefficient, A is area of heat transfer, $T_2$ is the temperature of the Xenon, and $T_1$ is the temperature of the nitrogen.\n",
    "\n",
    "Given the temperature boundary conditions, dimensions of the evaporator and condenser, and the materials (namely, coppper), we can deduce this cooling power. From the cooling power, we can derive a necessary flowrate of liquid nitrogen into the system, which allows us to know our usage of the dewar, as well as calculate to gas flow rate out of the system.\n",
    "\n",
    "# Flow Rate Stoichiometry #\n",
    "\n",
    "$\\left(\\frac{Joule}{Second}\\right)\\left(\\frac{mol}{joule}\\right)\\left(\\frac{gram}{mol}\\right)\\left(\\frac{liter}{gram}\\right) = \\left(\\frac{liter}{second}\\right)$\n",
    "\n",
    "$\\left(Cooling Power\\right)\\div\\left(Latent Heat of Vaporization\\right)\\left(Molar Mass\\right)\\div\\left(Density\\right) = \\left(Flow Rate\\right)$\n",
    "\n",
    "Flow Rate $ = \\frac{\\dot{Q}M}{\\rho L}$\n",
    "\n",
    "In the equilibrium (ideal) state, we can approximate the thermal transfer coefficient as the one which is entirely due to the copper between the nitrogen and xenon. To obtain this value, we use the specifications from McMaster for 101 Copper. \n",
    "\n",
    "Here: (From McMaster-Carr)\n",
    "\n",
    "Super-Conductive 101 Copper Thermal Conductivity: 226 Btu/hr. × ft./°F @ 68° F =  391.146 Watt/m/K\n",
    "\n",
    "The thermal transfer coefficient depends upon length of the connection:\n",
    "\n",
    "$ h = \\frac{U}{s}$ where U is the thermal conductivity and s is the connection length, which is 2 inches in this system.\n",
    "\n",
    "\n",
    "\n",
    "\n"
   ]
  },
  {
   "cell_type": "code",
   "execution_count": 4,
   "metadata": {
    "collapsed": true
   },
   "outputs": [],
   "source": [
    "thermal_area = 0.000903224 #1.4 square inches in m^2\n",
    "conductivity_cu = 391.146\n",
    "length_s = 0.0508 #2 inches in m\n",
    "h_cu = conductivity_cu/length_s\n",
    "T_ln2 = 77 #kelvin\n",
    "T_xe = 165 #kelvin\n",
    "density_ln2 = 816.7 #grams per liter\n",
    "density_n2 = 1.126 #grams per liter\n",
    "latent_vap_n2 = 5600 #joules per mole\n",
    "molar_mass_n2 = 28 #grams per mol"
   ]
  },
  {
   "cell_type": "code",
   "execution_count": 5,
   "metadata": {
    "collapsed": true
   },
   "outputs": [],
   "source": [
    "cooling_power = h_cu*thermal_area*(T_xe - T_ln2)\n",
    "flow_rate_s = (cooling_power*molar_mass_n2)/(density_ln2*latent_vap_n2)\n",
    "flow_rate_s_g = (cooling_power*molar_mass_n2)/(density_n2*latent_vap_n2)\n",
    "flow_rate_m_g = flow_rate_s_g*60\n",
    "flow_rate_m = flow_rate_s*60\n",
    "flow_rate_m_inv = 1/flow_rate_m\n",
    "flow_rate_m_g_inv = 1/flow_rate_m_g"
   ]
  },
  {
   "cell_type": "code",
   "execution_count": 6,
   "metadata": {},
   "outputs": [
    {
     "name": "stdout",
     "output_type": "stream",
     "text": [
      "Cooling Power: 612.0026774400001 Watts\n",
      "Flow Rate (Liquid N2): 0.0037468022372964373 Liters per second\n",
      "Flow Rate (Liquid N2): 0.22480813423778623 Liters per minute\n",
      "Flow Rate (Liquid N2): 4.448237620006536 Minutes per liter\n",
      "Flow Rate (Gas N2): 2.717596258614565 Liters per second\n",
      "Flow Rate (Gas N2): 163.05577551687392 Liters per minute\n",
      "Flow Rate (Gas N2): 0.006132870772777468 Minutes per liter\n"
     ]
    }
   ],
   "source": [
    "print(\"Cooling Power: \" + str(cooling_power) + \" Watts\")\n",
    "print(\"Flow Rate (Liquid N2): \" + str(flow_rate_s) + \" Liters per second\")\n",
    "print(\"Flow Rate (Liquid N2): \" + str(flow_rate_m) + \" Liters per minute\")\n",
    "print(\"Flow Rate (Liquid N2): \" + str(flow_rate_m_inv) + \" Minutes per liter\")\n",
    "print(\"Flow Rate (Gas N2): \" + str(flow_rate_s_g) + \" Liters per second\")\n",
    "print(\"Flow Rate (Gas N2): \" + str(flow_rate_m_g) + \" Liters per minute\")\n",
    "print(\"Flow Rate (Gas N2): \" + str(flow_rate_m_g_inv) + \" Minutes per liter\")"
   ]
  },
  {
   "cell_type": "markdown",
   "metadata": {},
   "source": [
    "## Link to LN2 Transfer Hose\n",
    "\n",
    "https://www.airgas.com/product/Gas-Equipment/Gas-Equipment-Accessories/Cryogenic-Storage-Equipment-%26-Accessories/p/MVE9713109"
   ]
  },
  {
   "cell_type": "code",
   "execution_count": null,
   "metadata": {
    "collapsed": true
   },
   "outputs": [],
   "source": []
  }
 ],
 "metadata": {
  "kernelspec": {
   "display_name": "Python 3",
   "language": "python",
   "name": "python3"
  },
  "language_info": {
   "codemirror_mode": {
    "name": "ipython",
    "version": 3
   },
   "file_extension": ".py",
   "mimetype": "text/x-python",
   "name": "python",
   "nbconvert_exporter": "python",
   "pygments_lexer": "ipython3",
   "version": "3.6.1"
  }
 },
 "nbformat": 4,
 "nbformat_minor": 2
}
